{
 "cells": [
  {
   "cell_type": "markdown",
   "metadata": {},
   "source": [
    "# Zadania\n",
    "1. Utwórz dwie nowe kolumny w ramce \"Countries\", w których powierzchnia i gęstość zaludnienia wyrażone sa odpowiednio w milach kwadratowych i osobach na milę kwadratową. \n",
    "  - Przelicznik: 1 mila kwadratowa = 0.38610 km kwadratowego (powierzchnię należy pomnożyć, a gęstość zaludnienia podzielić przez ten współczynnik)\n",
    "  - Typami nowych kolumn mają być odpowiednio integer (powierzchnia) i float (gęstość). Zaokrąglanie do integer: \"int(x)\"\n",
    "  - Nazwy nowych kolumn proszę ustawić odpowiednio na '<tt>Area (sq mi)</tt>' oraz '<tt>Pop Density (per sq mi)</tt>'\n",
    "1. Na wykresie scatterplot narysuj zależność liczby lotnisk od powierzchni kraju. \n",
    "  - Dane potrzebne do wykresu są w dwóch ramkach (Countries i Airports), konieczne więc będzie ich złączenie (join).\n",
    "  - Wskazówka: w pierwszym etapie stwórz ramkę agregującą liczbę lotnisk w zależności od kraju. W drugim etapie złącz (join) tę ramkę z ramką countries. Kolumną wspólną (warunkiem złączenia) będzie Country.\n",
    "  - Nie zawsze nazwy tych samych krajów będą identyczne w obu ramkach, co może stanowić problem (złączenie nie powstanie). Zastanów się jak przy pomocy mechanizmu złączeń wykryć, które nazwy się różnią. Stwórz odpowiednią ramkę, która zawiera takie nazwy. \n",
    "  - Następnie zmień nazwy kilku największych państw w jednej z ramek, tak żeby ujednolicić nazwy. Można to zrobić funkcją replace:\n",
    "<br><tt>cdf=cdf.replace(['Korea, South', 'Korea, North'], ['South Korea', 'North Korea'], 'Country')</tt>\n",
    "1. Do ramki \"Countries\" dodaj nową kolumnę \"Continent\" (według klasyfikacji Africa, Asia, Europe, North America, South America, Antarctica, Australia/Oceania). \n",
    "  - Skorzystaj z kolumny \"Region\" i pomocniczej funkcji (UDF) mapującej region na kontynent.\n",
    "1. Oblicz, ile lotnisk jest na poszczególnych kontynentach. To zadanie również wymaga złączenia ramek \"Countries\" i \"Airports\". Wynik przedstaw na wykresie słupkowym.\n"
   ]
  },
  {
   "cell_type": "code",
   "execution_count": 1,
   "metadata": {},
   "outputs": [],
   "source": [
    "from pyspark.sql import SparkSession"
   ]
  },
  {
   "cell_type": "code",
   "execution_count": 2,
   "metadata": {},
   "outputs": [],
   "source": [
    "import pandas as pd"
   ]
  },
  {
   "cell_type": "code",
   "execution_count": 3,
   "metadata": {},
   "outputs": [],
   "source": [
    "import numpy as np"
   ]
  },
  {
   "cell_type": "code",
   "execution_count": 4,
   "metadata": {},
   "outputs": [],
   "source": [
    "spark = SparkSession.builder.getOrCreate()"
   ]
  },
  {
   "cell_type": "code",
   "execution_count": 5,
   "metadata": {},
   "outputs": [],
   "source": [
    "import matplotlib\n",
    "import matplotlib.pyplot as plt\n",
    "matplotlib.style.use('ggplot')"
   ]
  },
  {
   "cell_type": "code",
   "execution_count": 6,
   "metadata": {},
   "outputs": [],
   "source": [
    "# Wbudowane funkcje, które mogą być przydatne:\n",
    "# - udf: służy do tworzenia funkcji użytkownika\n",
    "# - trim: usuwa białe spacje z początku i końca stringu\n",
    "# - isnull: testuje, czy wartość jest pusta\n",
    "from pyspark.sql.functions import col, udf, trim, isnull\n",
    "from pyspark.sql.types import FloatType, IntegerType"
   ]
  },
  {
   "cell_type": "code",
   "execution_count": 7,
   "metadata": {},
   "outputs": [],
   "source": [
    "def to_float (s) :\n",
    "   return float(s.replace(',','.'))\n",
    "float_udf = udf(to_float , FloatType())\n",
    "\n",
    "def to_int (s) :\n",
    "   return int(s)\n",
    "int_udf = udf(to_int , IntegerType())\n"
   ]
  },
  {
   "cell_type": "code",
   "execution_count": 8,
   "metadata": {
    "scrolled": false
   },
   "outputs": [],
   "source": [
    "countries = spark.read.csv(\"countries of the world.csv\",inferSchema=True,header=True)\n",
    "\n",
    "# Usuwa kropki z wszystkich nazw kolumn (powodują wiele błędów, prawdopodobnie bug w Sparku)\n",
    "# (Nb. wszystkie inne metody zmiany tych nazw (np. użycie columnRenamed) zawiodły)\n",
    "new_columns=[s.replace('.','') for s in countries.columns]\n",
    "countries=countries.toDF(*new_columns) # tutaj '*' to operator \"splat\" -- robi z tablicy listę argumentów\n",
    "\n",
    "# Tak można ustawić wyświetlanie większej liczby wierszy w Jupyterze\n",
    "pd.set_option('display.max_rows', 20)\n",
    "#display(countries.limit(5).toPandas())"
   ]
  },
  {
   "cell_type": "code",
   "execution_count": 9,
   "metadata": {},
   "outputs": [
    {
     "data": {
      "text/html": [
       "<div>\n",
       "<style scoped>\n",
       "    .dataframe tbody tr th:only-of-type {\n",
       "        vertical-align: middle;\n",
       "    }\n",
       "\n",
       "    .dataframe tbody tr th {\n",
       "        vertical-align: top;\n",
       "    }\n",
       "\n",
       "    .dataframe thead th {\n",
       "        text-align: right;\n",
       "    }\n",
       "</style>\n",
       "<table border=\"1\" class=\"dataframe\">\n",
       "  <thead>\n",
       "    <tr style=\"text-align: right;\">\n",
       "      <th></th>\n",
       "      <th>Country</th>\n",
       "      <th>Region</th>\n",
       "      <th>Population</th>\n",
       "      <th>Area (sq mi)</th>\n",
       "      <th>Pop Density (per sq mi)</th>\n",
       "      <th>Coastline (coast/area ratio)</th>\n",
       "      <th>Net migration</th>\n",
       "      <th>Infant mortality (per 1000 births)</th>\n",
       "      <th>GDP ($ per capita)</th>\n",
       "      <th>Literacy (%)</th>\n",
       "      <th>Phones (per 1000)</th>\n",
       "      <th>Arable (%)</th>\n",
       "      <th>Crops (%)</th>\n",
       "      <th>Other (%)</th>\n",
       "      <th>Birthrate</th>\n",
       "      <th>Deathrate</th>\n",
       "      <th>Agriculture</th>\n",
       "      <th>Industry</th>\n",
       "      <th>Service</th>\n",
       "    </tr>\n",
       "  </thead>\n",
       "  <tbody>\n",
       "    <tr>\n",
       "      <th>0</th>\n",
       "      <td>Afghanistan</td>\n",
       "      <td>ASIA (EX. NEAR EAST)</td>\n",
       "      <td>31056997</td>\n",
       "      <td>647500</td>\n",
       "      <td>48.000000</td>\n",
       "      <td>0.00</td>\n",
       "      <td>23.059999</td>\n",
       "      <td>163.070007</td>\n",
       "      <td>700</td>\n",
       "      <td>36.0</td>\n",
       "      <td>3.200000</td>\n",
       "      <td>12.13</td>\n",
       "      <td>0.22</td>\n",
       "      <td>87.650002</td>\n",
       "      <td>46.599998</td>\n",
       "      <td>20.34</td>\n",
       "      <td>0.380</td>\n",
       "      <td>0.240</td>\n",
       "      <td>0.380</td>\n",
       "    </tr>\n",
       "    <tr>\n",
       "      <th>1</th>\n",
       "      <td>Albania</td>\n",
       "      <td>EASTERN EUROPE</td>\n",
       "      <td>3581655</td>\n",
       "      <td>28748</td>\n",
       "      <td>124.599998</td>\n",
       "      <td>1.26</td>\n",
       "      <td>-4.930000</td>\n",
       "      <td>21.520000</td>\n",
       "      <td>4500</td>\n",
       "      <td>86.5</td>\n",
       "      <td>71.199997</td>\n",
       "      <td>21.09</td>\n",
       "      <td>4.42</td>\n",
       "      <td>74.489998</td>\n",
       "      <td>15.110000</td>\n",
       "      <td>5.22</td>\n",
       "      <td>0.232</td>\n",
       "      <td>0.188</td>\n",
       "      <td>0.579</td>\n",
       "    </tr>\n",
       "  </tbody>\n",
       "</table>\n",
       "</div>"
      ],
      "text/plain": [
       "       Country                Region  Population  Area (sq mi)  \\\n",
       "0  Afghanistan  ASIA (EX. NEAR EAST)    31056997        647500   \n",
       "1      Albania        EASTERN EUROPE     3581655         28748   \n",
       "\n",
       "   Pop Density (per sq mi)  Coastline (coast/area ratio)  Net migration  \\\n",
       "0                48.000000                          0.00      23.059999   \n",
       "1               124.599998                          1.26      -4.930000   \n",
       "\n",
       "   Infant mortality (per 1000 births)  GDP ($ per capita)  Literacy (%)  \\\n",
       "0                          163.070007                 700          36.0   \n",
       "1                           21.520000                4500          86.5   \n",
       "\n",
       "   Phones (per 1000)  Arable (%)  Crops (%)  Other (%)  Birthrate  Deathrate  \\\n",
       "0           3.200000       12.13       0.22  87.650002  46.599998      20.34   \n",
       "1          71.199997       21.09       4.42  74.489998  15.110000       5.22   \n",
       "\n",
       "   Agriculture  Industry  Service  \n",
       "0        0.380     0.240    0.380  \n",
       "1        0.232     0.188    0.579  "
      ]
     },
     "execution_count": 9,
     "metadata": {},
     "output_type": "execute_result"
    }
   ],
   "source": [
    "# Utworzenie nowej ramki 'cdf':\n",
    "# - wartosci puste wypelnione \"-1\", zeby nie usuwac wierszy\n",
    "# - trim stringów (w nazwach występują niepożądane spacje na końcu)\n",
    "# - konwersja wszystkich kolumn zmiennoprzecinkowych na float\n",
    "# - zmiana 'sq mi' na 'sq km', bo w zbiorze wartości są faktycznie w km^2, a nie milach^2\n",
    "cdf=countries.na.fill(\"-1\").select( \n",
    "                 trim(col('Country')).alias('Country'),\\\n",
    "                 trim(col('Region')).alias('Region'),'Population',\\\n",
    "                 col('`Area (sq mi)`').alias('Area (sq mi)'),\\\n",
    "                 float_udf('`Pop Density (per sq mi)`').alias('Pop Density (per sq mi)'),\\\n",
    "                 float_udf('Coastline (coast/area ratio)').alias('Coastline (coast/area ratio)'),\\\n",
    "                 float_udf('Net migration').alias('Net migration'),\\\n",
    "                 float_udf('Infant mortality (per 1000 births)').alias('Infant mortality (per 1000 births)'),\\\n",
    "                 'GDP ($ per capita)',\\\n",
    "                 float_udf('Literacy (%)').alias('Literacy (%)'),\\\n",
    "                 float_udf('Phones (per 1000)').alias('Phones (per 1000)'),\\\n",
    "                 float_udf('Arable (%)').alias('Arable (%)'),\\\n",
    "                 float_udf('Crops (%)').alias('Crops (%)'),\\\n",
    "                 float_udf('Other (%)').alias('Other (%)'),\\\n",
    "                 float_udf('Birthrate').alias('Birthrate'),\\\n",
    "                 float_udf('Deathrate').alias('Deathrate'),\\\n",
    "                 float_udf('Agriculture').alias('Agriculture'),\\\n",
    "                 float_udf('Industry').alias('Industry'),\\\n",
    "                 float_udf('Service').alias('Service'))\n",
    "cdf.limit(2).toPandas()"
   ]
  },
  {
   "cell_type": "markdown",
   "metadata": {},
   "source": [
    "# Zadanie 1: nowe kolumny"
   ]
  },
  {
   "cell_type": "code",
   "execution_count": 10,
   "metadata": {
    "scrolled": false
   },
   "outputs": [
    {
     "data": {
      "text/html": [
       "<div>\n",
       "<style scoped>\n",
       "    .dataframe tbody tr th:only-of-type {\n",
       "        vertical-align: middle;\n",
       "    }\n",
       "\n",
       "    .dataframe tbody tr th {\n",
       "        vertical-align: top;\n",
       "    }\n",
       "\n",
       "    .dataframe thead th {\n",
       "        text-align: right;\n",
       "    }\n",
       "</style>\n",
       "<table border=\"1\" class=\"dataframe\">\n",
       "  <thead>\n",
       "    <tr style=\"text-align: right;\">\n",
       "      <th></th>\n",
       "      <th>Country</th>\n",
       "      <th>Region</th>\n",
       "      <th>Population</th>\n",
       "      <th>Area (sq mi)</th>\n",
       "      <th>Pop Density (per sq mi)</th>\n",
       "      <th>Coastline (coast/area ratio)</th>\n",
       "      <th>Net migration</th>\n",
       "      <th>Infant mortality (per 1000 births)</th>\n",
       "      <th>GDP ($ per capita)</th>\n",
       "      <th>Literacy (%)</th>\n",
       "      <th>...</th>\n",
       "      <th>Arable (%)</th>\n",
       "      <th>Crops (%)</th>\n",
       "      <th>Other (%)</th>\n",
       "      <th>Birthrate</th>\n",
       "      <th>Deathrate</th>\n",
       "      <th>Agriculture</th>\n",
       "      <th>Industry</th>\n",
       "      <th>Service</th>\n",
       "      <th>Area (sq km)</th>\n",
       "      <th>Pop Density (per sq km)</th>\n",
       "    </tr>\n",
       "  </thead>\n",
       "  <tbody>\n",
       "    <tr>\n",
       "      <th>0</th>\n",
       "      <td>Afghanistan</td>\n",
       "      <td>ASIA (EX. NEAR EAST)</td>\n",
       "      <td>31056997</td>\n",
       "      <td>647500</td>\n",
       "      <td>48.000000</td>\n",
       "      <td>0.00</td>\n",
       "      <td>23.059999</td>\n",
       "      <td>163.070007</td>\n",
       "      <td>700</td>\n",
       "      <td>36.0</td>\n",
       "      <td>...</td>\n",
       "      <td>12.13</td>\n",
       "      <td>0.22</td>\n",
       "      <td>87.650002</td>\n",
       "      <td>46.599998</td>\n",
       "      <td>20.34</td>\n",
       "      <td>0.380</td>\n",
       "      <td>0.240</td>\n",
       "      <td>0.380</td>\n",
       "      <td>96524</td>\n",
       "      <td>7</td>\n",
       "    </tr>\n",
       "    <tr>\n",
       "      <th>1</th>\n",
       "      <td>Albania</td>\n",
       "      <td>EASTERN EUROPE</td>\n",
       "      <td>3581655</td>\n",
       "      <td>28748</td>\n",
       "      <td>124.599998</td>\n",
       "      <td>1.26</td>\n",
       "      <td>-4.930000</td>\n",
       "      <td>21.520000</td>\n",
       "      <td>4500</td>\n",
       "      <td>86.5</td>\n",
       "      <td>...</td>\n",
       "      <td>21.09</td>\n",
       "      <td>4.42</td>\n",
       "      <td>74.489998</td>\n",
       "      <td>15.110000</td>\n",
       "      <td>5.22</td>\n",
       "      <td>0.232</td>\n",
       "      <td>0.188</td>\n",
       "      <td>0.579</td>\n",
       "      <td>4285</td>\n",
       "      <td>18</td>\n",
       "    </tr>\n",
       "  </tbody>\n",
       "</table>\n",
       "<p>2 rows × 21 columns</p>\n",
       "</div>"
      ],
      "text/plain": [
       "       Country                Region  Population  Area (sq mi)  \\\n",
       "0  Afghanistan  ASIA (EX. NEAR EAST)    31056997        647500   \n",
       "1      Albania        EASTERN EUROPE     3581655         28748   \n",
       "\n",
       "   Pop Density (per sq mi)  Coastline (coast/area ratio)  Net migration  \\\n",
       "0                48.000000                          0.00      23.059999   \n",
       "1               124.599998                          1.26      -4.930000   \n",
       "\n",
       "   Infant mortality (per 1000 births)  GDP ($ per capita)  Literacy (%)  \\\n",
       "0                          163.070007                 700          36.0   \n",
       "1                           21.520000                4500          86.5   \n",
       "\n",
       "            ...             Arable (%)  Crops (%)  Other (%)  Birthrate  \\\n",
       "0           ...                  12.13       0.22  87.650002  46.599998   \n",
       "1           ...                  21.09       4.42  74.489998  15.110000   \n",
       "\n",
       "   Deathrate  Agriculture  Industry  Service  Area (sq km)  \\\n",
       "0      20.34        0.380     0.240    0.380         96524   \n",
       "1       5.22        0.232     0.188    0.579          4285   \n",
       "\n",
       "   Pop Density (per sq km)  \n",
       "0                        7  \n",
       "1                       18  \n",
       "\n",
       "[2 rows x 21 columns]"
      ]
     },
     "execution_count": 10,
     "metadata": {},
     "output_type": "execute_result"
    }
   ],
   "source": [
    "cdf = cdf.withColumn('Area (sq km)',int_udf(col('Area (sq mi)')*0.38610*0.38610))\n",
    "cdf = cdf.withColumn('Pop Density (per sq km)',int_udf(col('Pop Density (per sq mi)')*0.38610*0.38610))\n",
    "cdf.limit(2).toPandas()"
   ]
  },
  {
   "cell_type": "markdown",
   "metadata": {},
   "source": [
    "# Join examples"
   ]
  },
  {
   "cell_type": "code",
   "execution_count": 11,
   "metadata": {},
   "outputs": [],
   "source": [
    "valuesA = [('Pirate',1),('Monkey',2),('Ninja',3),('Spaghetti',4)]\n",
    "TableA = spark.createDataFrame(valuesA,['name','id'])\n",
    " \n",
    "valuesB = [('Rutabaga',1),('Pirate',2),('Ninja',3),('Darth Vader',4)]\n",
    "TableB = spark.createDataFrame(valuesB,['name','id'])"
   ]
  },
  {
   "cell_type": "code",
   "execution_count": 12,
   "metadata": {},
   "outputs": [],
   "source": [
    "a=TableA.alias('a')\n",
    "b=TableB.alias('b')"
   ]
  },
  {
   "cell_type": "code",
   "execution_count": 13,
   "metadata": {},
   "outputs": [
    {
     "name": "stdout",
     "output_type": "stream",
     "text": [
      "+---------+---+------+----+\n",
      "|     name| id|  name|  id|\n",
      "+---------+---+------+----+\n",
      "|Spaghetti|  4|  null|null|\n",
      "|    Ninja|  3| Ninja|   3|\n",
      "|   Pirate|  1|Pirate|   2|\n",
      "|   Monkey|  2|  null|null|\n",
      "+---------+---+------+----+\n",
      "\n"
     ]
    }
   ],
   "source": [
    "a.join(b, a.name==b.name, how='left').show()"
   ]
  },
  {
   "cell_type": "code",
   "execution_count": 14,
   "metadata": {},
   "outputs": [
    {
     "name": "stdout",
     "output_type": "stream",
     "text": [
      "+------+----+-----------+---+\n",
      "|  name|  id|       name| id|\n",
      "+------+----+-----------+---+\n",
      "|  null|null|   Rutabaga|  1|\n",
      "| Ninja|   3|      Ninja|  3|\n",
      "|Pirate|   1|     Pirate|  2|\n",
      "|  null|null|Darth Vader|  4|\n",
      "+------+----+-----------+---+\n",
      "\n"
     ]
    }
   ],
   "source": [
    "a.join(b, a.name==b.name, how='right').show()"
   ]
  },
  {
   "cell_type": "code",
   "execution_count": 15,
   "metadata": {},
   "outputs": [
    {
     "name": "stdout",
     "output_type": "stream",
     "text": [
      "+---------+----+-----------+----+\n",
      "|     name|  id|       name|  id|\n",
      "+---------+----+-----------+----+\n",
      "|     null|null|   Rutabaga|   1|\n",
      "|Spaghetti|   4|       null|null|\n",
      "|    Ninja|   3|      Ninja|   3|\n",
      "|   Pirate|   1|     Pirate|   2|\n",
      "|   Monkey|   2|       null|null|\n",
      "|     null|null|Darth Vader|   4|\n",
      "+---------+----+-----------+----+\n",
      "\n"
     ]
    }
   ],
   "source": [
    "a.join(b, a.name==b.name, how='full_outer').show()"
   ]
  },
  {
   "cell_type": "markdown",
   "metadata": {},
   "source": [
    "# Zadanie 2: zależność liczby lotnisk od powierzchni kraju "
   ]
  },
  {
   "cell_type": "code",
   "execution_count": 16,
   "metadata": {},
   "outputs": [],
   "source": [
    "# Read in the airports data\n",
    "arp = spark.read.csv(\"airportsAll.csv\",inferSchema=True,header=False).\\\n",
    "toDF(\"id\",\"airport\",\"city\",\"country\",\"iata\",\"icao\",\"latitude\",\"longitude\",\"altitude\",\"timezone\",\"dst\",\"tz_timezone\",\"type\",\"data_source\")\n",
    "# zacznij od stworzenia ramki, która zawiera posortowaną liczbę lotnisk w poszczególnych krajach\n",
    "arpByCountry = arp.groupBy(col('country')).count().orderBy('country')\n",
    "\n",
    "#arpByCountry.limit(2).toPandas()"
   ]
  },
  {
   "cell_type": "code",
   "execution_count": null,
   "metadata": {},
   "outputs": [],
   "source": [
    "# TODO złączenie ramek i wykres\n",
    "cdf=cdf.replace(['Antigua & Barbuda','British Virgin Is.','Saint Kitts & Nevis','Gambia, The'], \n",
    "                ['Antigua and Barbuda','British Virgin Islands','Saint Kitts and Nevis','Gambia'],\n",
    "                'Country')\n",
    "a = cdf.alias('a')\n",
    "c= arpByCountry.alias('c')\n",
    "a.join(c, a.Country==c.country).toPandas().plot(x=\"count\",y=\"Area (sq km)\",kind=\"scatter\")"
   ]
  },
  {
   "cell_type": "code",
   "execution_count": null,
   "metadata": {},
   "outputs": [],
   "source": [
    "# TODO wykrycie niepasujących nazw państwa i ujednolicenie wartości \n",
    "ac = a.join(c, a.Country==c.country, how='full_outer').\\\n",
    "filter((col('a.Country').isNull()) | (col('c.country').isNull()) )\n",
    "\n",
    "a1 = ac.\\\n",
    "filter(col('a.Country').isNull() != 1).\\\n",
    "select(col('a.Country'))\n",
    "#a1.toPandas()\n",
    "\n",
    "c1 = ac.\\\n",
    "filter(col('c.country').isNull() != 1).\\\n",
    "select(col('c.country'))\n",
    "#c1.toPandas()\n",
    "\n",
    "a1.join(c1, a1.Country.substr(1, 3)==c1.country.substr(1, 3)).toPandas()\n"
   ]
  },
  {
   "cell_type": "markdown",
   "metadata": {},
   "source": [
    "# Zadanie 3"
   ]
  },
  {
   "cell_type": "code",
   "execution_count": 19,
   "metadata": {},
   "outputs": [],
   "source": [
    "# TODO"
   ]
  },
  {
   "cell_type": "markdown",
   "metadata": {},
   "source": [
    "# Zadanie 4"
   ]
  },
  {
   "cell_type": "code",
   "execution_count": 20,
   "metadata": {},
   "outputs": [],
   "source": [
    "# TODO"
   ]
  }
 ],
 "metadata": {
  "kernelspec": {
   "display_name": "Python 3",
   "language": "python",
   "name": "python3"
  },
  "language_info": {
   "codemirror_mode": {
    "name": "ipython",
    "version": 3
   },
   "file_extension": ".py",
   "mimetype": "text/x-python",
   "name": "python",
   "nbconvert_exporter": "python",
   "pygments_lexer": "ipython3",
   "version": "3.6.7"
  }
 },
 "nbformat": 4,
 "nbformat_minor": 2
}
